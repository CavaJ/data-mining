{
 "cells": [
  {
   "cell_type": "markdown",
   "metadata": {},
   "source": [
    "# Exercise sheet 3 Problem 2"
   ]
  },
  {
   "cell_type": "code",
   "execution_count": 232,
   "metadata": {
    "collapsed": false
   },
   "outputs": [],
   "source": [
    "# Read data from SPECT dataset.\n",
    "SPECT = open(\"SPECT-all-data\")\n",
    "\n",
    "m, n, k, F = map(int, SPECT.readline().split())\n",
    "\n",
    "# Read in database of items.\n",
    "# This is stored as a dictionary of\n",
    "# {TID : (attribute list, target attribute)} pairs.\n",
    "D = []\n",
    "for i in range(1, m + 1):\n",
    "    # Read in attributes\n",
    "    line_data = [(-1)**(int(w) + 1) for w in SPECT.readline().split(',')]\n",
    "    D.append((line_data[:n], line_data[-1]))\n",
    "\n",
    "# Population proportion of positive labels:\n",
    "p0 = sum((1 for d in D if d[1] == 1)) / m"
   ]
  },
  {
   "cell_type": "markdown",
   "metadata": {},
   "source": [
    "We used C++ to find the best subgroups for F = 1, 2, 3.\n",
    "Read the output files."
   ]
  },
  {
   "cell_type": "code",
   "execution_count": 233,
   "metadata": {
    "collapsed": false
   },
   "outputs": [],
   "source": [
    "def get_best_groups(path):\n",
    "    '''Read output files and get best groups'''\n",
    "    best_groups = []\n",
    "    F = open(path)\n",
    "    for line in range(k):\n",
    "        line_data = F.readline().split()\n",
    "        hyp = tuple(map(lambda m: int(m[1:]) if m[0] == 'x' else -int(m[2:]), line_data[1:]))\n",
    "        best_groups.append(hyp)\n",
    "    return best_groups"
   ]
  },
  {
   "cell_type": "markdown",
   "metadata": {},
   "source": [
    "Best hypotheses for F = 1, 2, 3:"
   ]
  },
  {
   "cell_type": "code",
   "execution_count": 234,
   "metadata": {
    "collapsed": false,
    "scrolled": true
   },
   "outputs": [
    {
     "name": "stdout",
     "output_type": "stream",
     "text": [
      "F = 1\n",
      "  1 : (1, 14, 22)\n",
      "  2 : (14, 22)\n",
      "  3 : (1, -11, 14, 22)\n",
      "  4 : (-11, 14, 22)\n",
      "  5 : (1, 4, -11, 14)\n",
      "  6 : (1, 22)\n",
      "  7 : (1, 14, 17, 22)\n",
      "  8 : (14, 17, 22)\n",
      "  9 : (1, 9, 14, 22)\n",
      "  10 : (1, 4, 14, 22)\n",
      "F = 2\n",
      "  1 : (1, 14, 22)\n",
      "  2 : (14, 22)\n",
      "  3 : (1, 22)\n",
      "  4 : (1, 14)\n",
      "  5 : (-22,)\n",
      "  6 : (22,)\n",
      "  7 : (1, 9, 14, 22)\n",
      "  8 : (-19, -22)\n",
      "  9 : (1, 4, 14)\n",
      "  10 : (1, -11, 14, 22)\n",
      "F = 3\n",
      "  1 : (1, 14, 22)\n",
      "  2 : (14, 22)\n",
      "  3 : (1, 22)\n",
      "  4 : (22,)\n",
      "  5 : (1, 4, 14)\n",
      "  6 : (1, 9, 14, 22)\n",
      "  7 : (1, 14)\n",
      "  8 : (1, 4, 14, 22)\n",
      "  9 : (9, 14, 22)\n",
      "  10 : (4, 14, 22)\n"
     ]
    }
   ],
   "source": [
    "# Get best groups for F = 1, 2, 3\n",
    "Fs = [\"F1\", \"F2\", \"F3\"]\n",
    "best_groups = list(map(get_best_groups, Fs))\n",
    "\n",
    "for i in [1,2,3]:\n",
    "    print(\"F =\", i)\n",
    "    groups = best_groups[i-1]\n",
    "    for j in range(k):\n",
    "        print(\" \", j+1, \":\", groups[j])"
   ]
  },
  {
   "cell_type": "code",
   "execution_count": 235,
   "metadata": {
    "collapsed": false
   },
   "outputs": [],
   "source": [
    "import math\n",
    "\n",
    "def ext(hyp):\n",
    "    '''Get the extension of a hypothesis.\n",
    "    \n",
    "    Return a generator iterating over the indices of items in D satisfying hyp.\n",
    "\n",
    "    A hypothesis is represented as a tuple of integers from\n",
    "    {-n, ... , n} in the natural way, e.g. (1, -2, 4) ~ x1!x2x4.\n",
    "    '''\n",
    "\n",
    "    for i in range(len(D)):\n",
    "        satisfied = True\n",
    "        for attr in hyp:\n",
    "            # If the attribute of this item has opposite value to that\n",
    "            # specified by the hypothesis:\n",
    "            if (attr * D[i][0][abs(attr) - 1] < 0):\n",
    "                satisfied = False\n",
    "                break\n",
    "        if satisfied:\n",
    "            yield i\n",
    "            \n",
    "def V(hyp):\n",
    "    '''Calculate z-score for hyp.'''\n",
    "    extension = list(ext(hyp))\n",
    "    num_positive = sum((1 for k in extension if D[k][1] == 1))\n",
    "    p = num_positive / len(extension)\n",
    "    return (p-p0) / math.sqrt(p0*(1-p0) / len(extension))"
   ]
  },
  {
   "cell_type": "markdown",
   "metadata": {},
   "source": [
    "Calculate z-scores for each discovered group, for each F:"
   ]
  },
  {
   "cell_type": "code",
   "execution_count": 248,
   "metadata": {
    "collapsed": false,
    "scrolled": false
   },
   "outputs": [
    {
     "name": "stdout",
     "output_type": "stream",
     "text": [
      "F = 1\n",
      "\t\tz-score\t\tSignificant?\tHypothesis\n",
      "\t ------------------------------------------------------------\n",
      "\t 1 :     6.6404 \t True \t\t (1, 14, 22)\n",
      "\t 2 :     6.4630 \t True \t\t (14, 22)\n",
      "\t 3 :     6.0869 \t True \t\t (1, -11, 14, 22)\n",
      "\t 4 :     6.0058 \t True \t\t (-11, 14, 22)\n",
      "\t 5 :     6.0058 \t True \t\t (1, 4, -11, 14)\n",
      "\t 6 :     5.9516 \t True \t\t (1, 22)\n",
      "\t 7 :     5.9309 \t True \t\t (1, 14, 17, 22)\n",
      "\t 8 :     5.9309 \t True \t\t (14, 17, 22)\n",
      "\t 9 :     5.8518 \t True \t\t (1, 9, 14, 22)\n",
      "\t 10 :     5.7945 \t True \t\t (1, 4, 14, 22)\n",
      "\n",
      "F = 2\n",
      "\t\tz-score\t\tSignificant?\tHypothesis\n",
      "\t ------------------------------------------------------------\n",
      "\t 1 :     6.6404 \t True \t\t (1, 14, 22)\n",
      "\t 2 :     6.4630 \t True \t\t (14, 22)\n",
      "\t 3 :     5.9516 \t True \t\t (1, 22)\n",
      "\t 4 :     5.1794 \t True \t\t (1, 14)\n",
      "\t 5 :    -4.2131 \t True \t\t (-22,)\n",
      "\t 6 :     5.5776 \t True \t\t (22,)\n",
      "\t 7 :     5.8518 \t True \t\t (1, 9, 14, 22)\n",
      "\t 8 :    -4.2708 \t True \t\t (-19, -22)\n",
      "\t 9 :     5.5052 \t True \t\t (1, 4, 14)\n",
      "\t 10 :     6.0869 \t True \t\t (1, -11, 14, 22)\n",
      "\n",
      "F = 3\n",
      "\t\tz-score\t\tSignificant?\tHypothesis\n",
      "\t ------------------------------------------------------------\n",
      "\t 1 :     6.6404 \t True \t\t (1, 14, 22)\n",
      "\t 2 :     6.4630 \t True \t\t (14, 22)\n",
      "\t 3 :     5.9516 \t True \t\t (1, 22)\n",
      "\t 4 :     5.5776 \t True \t\t (22,)\n",
      "\t 5 :     5.5052 \t True \t\t (1, 4, 14)\n",
      "\t 6 :     5.8518 \t True \t\t (1, 9, 14, 22)\n",
      "\t 7 :     5.1794 \t True \t\t (1, 14)\n",
      "\t 8 :     5.7945 \t True \t\t (1, 4, 14, 22)\n",
      "\t 9 :     5.5593 \t True \t\t (9, 14, 22)\n",
      "\t 10 :     5.5998 \t True \t\t (4, 14, 22)\n",
      "\n"
     ]
    }
   ],
   "source": [
    "for i in [1,2,3]:\n",
    "    groups = best_groups[i-1]\n",
    "    print(\"F =\", i)\n",
    "    print(\"\\t\\tz-score\\t\\tSignificant?\\tHypothesis\")\n",
    "    print('\\t', '-'*60)\n",
    "    for j in range(k):\n",
    "        hyp = groups[j]\n",
    "        z = V(hyp)\n",
    "        print(\"\\t\", j + 1, \":\", \"{:10.4f}\".format(z), \"\\t\", abs(z) > 2.58, \"\\t\\t\", hyp)\n",
    "    print()"
   ]
  },
  {
   "cell_type": "code",
   "execution_count": null,
   "metadata": {
    "collapsed": true
   },
   "outputs": [],
   "source": []
  }
 ],
 "metadata": {
  "kernelspec": {
   "display_name": "Python 3",
   "language": "python",
   "name": "python3"
  },
  "language_info": {
   "codemirror_mode": {
    "name": "ipython",
    "version": 3
   },
   "file_extension": ".py",
   "mimetype": "text/x-python",
   "name": "python",
   "nbconvert_exporter": "python",
   "pygments_lexer": "ipython3",
   "version": "3.4.3"
  }
 },
 "nbformat": 4,
 "nbformat_minor": 0
}
